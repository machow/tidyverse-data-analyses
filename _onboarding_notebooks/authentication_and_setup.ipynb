{
 "cells": [
  {
   "cell_type": "markdown",
   "id": "6f7c52db-57ae-406d-973a-04cd542a3ba3",
   "metadata": {},
   "source": [
    "# Authentication\n",
    "\n",
    "In order to pass credentials to the warehouse, copy your service account key to `~/.config/gcloud/application_default_credentials.json`.\n",
    "\n",
    "If you do not have a service account key, you can add credentials by [installing gcloud](https://cloud.google.com/sdk/docs/install), and running `gcloud auth application-default login`."
   ]
  },
  {
   "cell_type": "markdown",
   "id": "01fd2ec7-2d35-4fbd-9a37-e018a47d7328",
   "metadata": {},
   "source": [
    "# Setting environment variables\n",
    "\n",
    "Copy these variables below into the bottom of your `~/.profile` :\n",
    "\n",
    "```\n",
    "export PIPELINE_BUCKET=\"gs://tidyverse-pipeline\"\n",
    "export PIPELINE_WAREHOUSE_URI=\"bigquery://tidyverse-pipeline\"\n",
    "export PIPELINE_USER=\"analyst\"\n",
    "```"
   ]
  },
  {
   "cell_type": "markdown",
   "id": "55e082fb-db2e-4d6c-b5c4-8e7af8b36c17",
   "metadata": {},
   "source": [
    "# Installing packages"
   ]
  },
  {
   "cell_type": "code",
   "execution_count": null,
   "id": "121bd354-80f0-4781-a486-cce07bdfaba3",
   "metadata": {
    "tags": []
   },
   "outputs": [],
   "source": [
    "# Install necessary packages. This only needs to be done\n",
    "# once per workbench session. So afterwards, you can\n",
    "# comment out the line below.\n",
    "%pip install gcsfs dbpal python-dotenv dbcooper jupytext"
   ]
  },
  {
   "cell_type": "markdown",
   "id": "e2adf27a-1f77-47e5-9b05-ff1ed9429752",
   "metadata": {},
   "source": [
    "## Running example analysis\n",
    "\n",
    "Once you've installed the packages above, you need to exist workbench, and create a new session.\n",
    "\n",
    "This allows two things:\n",
    "\n",
    "* jupyterlab to pick up the necessary jupytext extensions.\n",
    "* your .profile to run before jupyterlab starts, and set your environment variables.\n",
    "\n",
    "Once that's done, open `example_analysis.ipynb` to analyze some data! (OR, right click `example_analysis.qmd` and select Open With -> Notebook)."
   ]
  }
 ],
 "metadata": {
  "kernelspec": {
   "display_name": "Python 3.10.4",
   "language": "python",
   "name": "py3.10.4"
  },
  "language_info": {
   "codemirror_mode": {
    "name": "ipython",
    "version": 3
   },
   "file_extension": ".py",
   "mimetype": "text/x-python",
   "name": "python",
   "nbconvert_exporter": "python",
   "pygments_lexer": "ipython3",
   "version": "3.10.4"
  }
 },
 "nbformat": 4,
 "nbformat_minor": 5
}
