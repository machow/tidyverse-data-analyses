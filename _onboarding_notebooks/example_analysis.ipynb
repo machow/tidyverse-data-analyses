{
 "cells": [
  {
   "cell_type": "markdown",
   "metadata": {},
   "source": [
    "# Analyzing data"
   ]
  },
  {
   "cell_type": "code",
   "execution_count": null,
   "metadata": {},
   "outputs": [],
   "source": [
    "from dbpal.tables import tbls\n",
    "from siuba import *"
   ]
  },
  {
   "cell_type": "markdown",
   "metadata": {},
   "source": [
    "## Get information about a table\n",
    "\n",
    "Print out a table to get information about it's column types, and descriptions (if available)."
   ]
  },
  {
   "cell_type": "code",
   "execution_count": null,
   "metadata": {},
   "outputs": [],
   "source": [
    "tbls.stg_issues"
   ]
  },
  {
   "cell_type": "markdown",
   "metadata": {},
   "source": [
    "## Querying a table\n",
    "\n",
    "Call the table to get back a [siuba LazyTbl](https://siuba.org/guide/basics-sql.html), which can be wrangled dbplyr style:\n",
    "\n",
    "### Example: simple issue count"
   ]
  },
  {
   "cell_type": "code",
   "execution_count": null,
   "metadata": {},
   "outputs": [],
   "source": [
    "tbls.stg_issues() >> count()"
   ]
  },
  {
   "cell_type": "markdown",
   "metadata": {},
   "source": [
    "### Example: counting issues per repo\n",
    "\n",
    "We could count the number of issues per repo with two steps:\n",
    "\n",
    "* Joining `stg_issues.repository_id` with `stg_repository.id`, in order to get each repositories name.\n",
    "* Counting repository name.\n",
    "\n",
    "This is shown in the code below."
   ]
  },
  {
   "cell_type": "code",
   "execution_count": null,
   "metadata": {},
   "outputs": [],
   "source": [
    "(\n",
    "    tbls.stg_issues()\n",
    "    >> inner_join(\n",
    "        _,\n",
    "        tbls.stg_repository() >> select(_.repository_id == _.id, _.full_name),\n",
    "        \"repository_id\"\n",
    "    )\n",
    "    >> count(_.full_name)\n",
    ")"
   ]
  },
  {
   "cell_type": "markdown",
   "metadata": {},
   "source": [
    "## Query using raw sql\n",
    "\n",
    "Use `tbls.query()` to query using raw sql, and return the results as a siuba `LazyTbl`.\n",
    "\n",
    "For example, the query below counts daily siuba downloads from pypi, using the public bigquery dataset `bigquery-public-data.pypi.file_downloads`:"
   ]
  },
  {
   "cell_type": "code",
   "execution_count": null,
   "metadata": {},
   "outputs": [],
   "source": [
    "tbls.query(\"\"\"\n",
    "SELECT\n",
    "  CAST(file_downloads.timestamp  AS DATE) AS file_downloads_timestamp_date,\n",
    "       file_downloads.file.project  AS file_downloads_file__project,\n",
    "       COUNT(*) AS file_downloads_count\n",
    "FROM `bigquery-public-data.pypi.file_downloads`\n",
    "  AS file_downloads\n",
    "WHERE \n",
    "    -- filter siuba downloads in the last 30 days\n",
    "    (file_downloads.file.project = 'siuba')\n",
    "    AND (file_downloads.timestamp >= timestamp_add(current_timestamp(), INTERVAL -30 DAY)) \n",
    "GROUP BY 1,2\n",
    "ORDER BY 1,2,3\n",
    "\"\"\")"
   ]
  }
 ],
 "metadata": {
  "jupytext": {
   "formats": "ipynb,qmd"
  },
  "kernelspec": {
   "display_name": "Python 3 (ipykernel)",
   "language": "python",
   "name": "python3"
  },
  "language_info": {
   "codemirror_mode": {
    "name": "ipython",
    "version": 3
   },
   "file_extension": ".py",
   "mimetype": "text/x-python",
   "name": "python",
   "nbconvert_exporter": "python",
   "pygments_lexer": "ipython3",
   "version": "3.10.4"
  }
 },
 "nbformat": 4,
 "nbformat_minor": 4
}
